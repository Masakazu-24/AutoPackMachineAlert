{
 "cells": [
  {
   "cell_type": "code",
   "execution_count": 5,
   "metadata": {},
   "outputs": [],
   "source": [
    "import tkinter.messagebox as tkm\n",
    "import pandas as pd\n",
    "from pathlib import Path\n",
    "import pymsteams\n",
    "import sys\n",
    "import time\n",
    "import socket\n",
    "import os\n",
    "import datetime\n",
    "\n",
    "\n",
    "## 生成したTeamsのWebhookURLを変数に格納\n",
    "TEAMS_WEB_HOOK_URL = \"https://kyoceragp.webhook.office.com/webhookb2/1637c1a5-b0e2-4cb4-a46e-0e22f48d27d0@82cc187e-25d5-45e4-8c34-8434bf6075fe/IncomingWebhook/7be33a3145c9405f9da5e014577b85f4/4c26940d-3caf-4724-8f3a-f28d4cf57f1d\"\n",
    "\n",
    "def send_message(Name,Mail,Message): #Nameはローマ字の頭大文字で名+姓の順　間半角スペース'Masakazu Nishi'の形式\n",
    "    teams_message = pymsteams.connectorcard(TEAMS_WEB_HOOK_URL)\n",
    "    teams_message.payload = {\n",
    "        \"type\": \"message\",\n",
    "        \"attachments\": [\n",
    "            {\n",
    "            \"contentType\": \"application/vnd.microsoft.card.adaptive\",\n",
    "            \"content\": {\n",
    "                \"type\": \"AdaptiveCard\",\n",
    "                \"body\": [\n",
    "                    {\n",
    "                        \"type\": \"TextBlock\",\n",
    "                        \"text\": \"<at>\"+str(Name)+\"</at>\\r \\n\"+str(Message)\n",
    "                    }\n",
    "                ],\n",
    "                \"$schema\": \"http://adaptivecards.io/schemas/adaptive-card.json\",\n",
    "                \"version\": \"1.0\",\n",
    "                \"msteams\": {\n",
    "                    \"entities\": [\n",
    "                        {\n",
    "                            \"type\": \"mention\",\n",
    "                            \"text\": \"<at>\"+ str(Name)+ \"</at>\",\n",
    "                            \"mentioned\": {\n",
    "                                \"id\": str(Mail),\n",
    "                                \"name\": str(Name)\n",
    "                            }\n",
    "                        }\n",
    "                    ]\n",
    "                }\n",
    "            }\n",
    "        }]\n",
    "    }\n",
    "    teams_message.send()\n",
    "\n",
    "Name = 'Masakazu Nishi'\n",
    "Mail = 'masakazu.nishi.zs@kyocera.jp'\n",
    "Message = '黄色点滅'\n",
    "send_message(Name,Mail,Message)"
   ]
  },
  {
   "cell_type": "code",
   "execution_count": 7,
   "metadata": {},
   "outputs": [
    {
     "name": "stdout",
     "output_type": "stream",
     "text": [
      "Status 1: 自動停止中\n",
      "Status 2: 異常中\n"
     ]
    }
   ],
   "source": [
    "import pandas as pd\n",
    "\n",
    "def determine_status(flg_red, flg_yellow, flg_green):\n",
    "    # CSVファイルからステータスパターンを読み込み\n",
    "    status_pattern = pd.read_csv('Status_pattern.csv')\n",
    "\n",
    "    # フラグの値を文字列に変換\n",
    "    flg_red_str = int(flg_red)\n",
    "    flg_yellow_str = int(flg_yellow)\n",
    "    flg_green_str = int(flg_green)\n",
    "\n",
    "    # ステータスを取得\n",
    "    status_1 = status_pattern[(status_pattern['flg_red'] == flg_red_str) &\n",
    "                             (status_pattern['flg_yellow'] == flg_yellow_str) &\n",
    "                             (status_pattern['flg_green'] == flg_green_str)]['status_1'].values[0]\n",
    "\n",
    "    status_2 = status_pattern[(status_pattern['flg_red'] == flg_red_str) &\n",
    "                             (status_pattern['flg_yellow'] == flg_yellow_str) &\n",
    "                             (status_pattern['flg_green'] == flg_green_str)]['status_2'].values[0]\n",
    "\n",
    "    return status_1, status_2\n",
    "\n",
    "# 例: flg_red=1, flg_yellow=0, flg_green=2の場合\n",
    "status1, status2 = determine_status(1, 0, 2)\n",
    "print(f\"Status 1: {status1}\")\n",
    "print(f\"Status 2: {status2}\")\n"
   ]
  },
  {
   "cell_type": "code",
   "execution_count": 6,
   "metadata": {},
   "outputs": [
    {
     "data": {
      "text/plain": [
       "'自動運転中'"
      ]
     },
     "execution_count": 6,
     "metadata": {},
     "output_type": "execute_result"
    }
   ],
   "source": [
    "status_pattern = pd.read_csv('Status_pattern.csv')\n",
    "test = status_pattern[(status_pattern['flg_red']==1)&(status_pattern['flg_yellow']==1)&(status_pattern['flg_green']==1)]['status_1'].values[0]\n",
    "test"
   ]
  },
  {
   "cell_type": "code",
   "execution_count": null,
   "metadata": {},
   "outputs": [],
   "source": []
  }
 ],
 "metadata": {
  "kernelspec": {
   "display_name": "AutoPackMachine",
   "language": "python",
   "name": "python3"
  },
  "language_info": {
   "codemirror_mode": {
    "name": "ipython",
    "version": 3
   },
   "file_extension": ".py",
   "mimetype": "text/x-python",
   "name": "python",
   "nbconvert_exporter": "python",
   "pygments_lexer": "ipython3",
   "version": "3.10.2"
  },
  "orig_nbformat": 4
 },
 "nbformat": 4,
 "nbformat_minor": 2
}
