{
 "cells": [
  {
   "cell_type": "code",
   "execution_count": 5,
   "metadata": {},
   "outputs": [],
   "source": [
    "import tkinter.messagebox as tkm\n",
    "import pandas as pd\n",
    "from pathlib import Path\n",
    "import pymsteams\n",
    "import sys\n",
    "import time\n",
    "import socket\n",
    "import os\n",
    "import datetime\n",
    "\n",
    "\n",
    "## 生成したTeamsのWebhookURLを変数に格納\n",
    "TEAMS_WEB_HOOK_URL = \"https://kyoceragp.webhook.office.com/webhookb2/1637c1a5-b0e2-4cb4-a46e-0e22f48d27d0@82cc187e-25d5-45e4-8c34-8434bf6075fe/IncomingWebhook/7be33a3145c9405f9da5e014577b85f4/4c26940d-3caf-4724-8f3a-f28d4cf57f1d\"\n",
    "\n",
    "def send_message(Name,Mail,Message): #Nameはローマ字の頭大文字で名+姓の順　間半角スペース'Masakazu Nishi'の形式\n",
    "    teams_message = pymsteams.connectorcard(TEAMS_WEB_HOOK_URL)\n",
    "    teams_message.payload = {\n",
    "        \"type\": \"message\",\n",
    "        \"attachments\": [\n",
    "            {\n",
    "            \"contentType\": \"application/vnd.microsoft.card.adaptive\",\n",
    "            \"content\": {\n",
    "                \"type\": \"AdaptiveCard\",\n",
    "                \"body\": [\n",
    "                    {\n",
    "                        \"type\": \"TextBlock\",\n",
    "                        \"text\": \"<at>\"+str(Name)+\"</at>\\r \\n\"+str(Message)\n",
    "                    }\n",
    "                ],\n",
    "                \"$schema\": \"http://adaptivecards.io/schemas/adaptive-card.json\",\n",
    "                \"version\": \"1.0\",\n",
    "                \"msteams\": {\n",
    "                    \"entities\": [\n",
    "                        {\n",
    "                            \"type\": \"mention\",\n",
    "                            \"text\": \"<at>\"+ str(Name)+ \"</at>\",\n",
    "                            \"mentioned\": {\n",
    "                                \"id\": str(Mail),\n",
    "                                \"name\": str(Name)\n",
    "                            }\n",
    "                        }\n",
    "                    ]\n",
    "                }\n",
    "            }\n",
    "        }]\n",
    "    }\n",
    "    teams_message.send()\n",
    "\n",
    "Name = 'Masakazu Nishi'\n",
    "Mail = 'masakazu.nishi.zs@kyocera.jp'\n",
    "Message = '黄色点滅'\n",
    "send_message(Name,Mail,Message)"
   ]
  },
  {
   "cell_type": "code",
   "execution_count": null,
   "metadata": {},
   "outputs": [],
   "source": []
  }
 ],
 "metadata": {
  "kernelspec": {
   "display_name": "AutoPackMachine",
   "language": "python",
   "name": "python3"
  },
  "language_info": {
   "codemirror_mode": {
    "name": "ipython",
    "version": 3
   },
   "file_extension": ".py",
   "mimetype": "text/x-python",
   "name": "python",
   "nbconvert_exporter": "python",
   "pygments_lexer": "ipython3",
   "version": "3.10.2"
  },
  "orig_nbformat": 4
 },
 "nbformat": 4,
 "nbformat_minor": 2
}
